{
 "cells": [
  {
   "cell_type": "code",
   "execution_count": 23,
   "id": "ebb058df",
   "metadata": {},
   "outputs": [],
   "source": [
    "\n",
    "import gspread\n",
    "from oauth2client.service_account import ServiceAccountCredentials\n",
    "from pprint import pprint as pp\n",
    "\n",
    "import pandas as pd\n",
    "\n",
    "from urllib.request import urlopen\n",
    "\n",
    "from PIL import Image\n",
    "import requests\n",
    "from io import BytesIO\n"
   ]
  },
  {
   "cell_type": "code",
   "execution_count": 2,
   "id": "f577fd92",
   "metadata": {},
   "outputs": [],
   "source": [
    "\n",
    "scope = [\"https://spreadsheets.google.com/feeds\",'https://www.googleapis.com/auth/spreadsheets',\"https://www.googleapis.com/auth/drive.file\",\"https://www.googleapis.com/auth/drive\"]\n"
   ]
  },
  {
   "cell_type": "code",
   "execution_count": 3,
   "id": "6d244d14",
   "metadata": {},
   "outputs": [],
   "source": [
    "\n",
    "creds = ServiceAccountCredentials.from_json_keyfile_name(\"creds.json\",scope)\n",
    "client = gspread.authorize(creds)\n"
   ]
  },
  {
   "cell_type": "code",
   "execution_count": 9,
   "id": "e859ca51",
   "metadata": {},
   "outputs": [],
   "source": [
    "\n",
    "sheet = client.open(\"LinkedIn Data Content Creators\").worksheet(\"Form Responses\")\n",
    "data_json = sheet.get_all_records() \n"
   ]
  },
  {
   "cell_type": "code",
   "execution_count": 10,
   "id": "e90d5fda",
   "metadata": {},
   "outputs": [
    {
     "data": {
      "text/html": [
       "<div>\n",
       "<style scoped>\n",
       "    .dataframe tbody tr th:only-of-type {\n",
       "        vertical-align: middle;\n",
       "    }\n",
       "\n",
       "    .dataframe tbody tr th {\n",
       "        vertical-align: top;\n",
       "    }\n",
       "\n",
       "    .dataframe thead th {\n",
       "        text-align: right;\n",
       "    }\n",
       "</style>\n",
       "<table border=\"1\" class=\"dataframe\">\n",
       "  <thead>\n",
       "    <tr style=\"text-align: right;\">\n",
       "      <th></th>\n",
       "      <th>Timestamp</th>\n",
       "      <th>What is your name (as shown on LinkedIn)?</th>\n",
       "      <th>What is your LinkedIn profile URL?</th>\n",
       "      <th>What is your LinkedIn profile image?</th>\n",
       "      <th>How long have you been creating data content on LinkedIn?</th>\n",
       "      <th>How many followers do you have at this time?</th>\n",
       "      <th>What percent of your posts contain the following? [General Data Advice]</th>\n",
       "      <th>What percent of your posts contain the following? [Resume Advice]</th>\n",
       "      <th>What percent of your posts contain the following? [Best Practices in Data]</th>\n",
       "      <th>What percent of your posts contain the following? [Data Viz Tips]</th>\n",
       "      <th>...</th>\n",
       "      <th>What percent of your posts contain the following? [R]</th>\n",
       "      <th>What percent of your posts contain the following? [SQL]</th>\n",
       "      <th>What percent of your posts contain the following? [Tableau]</th>\n",
       "      <th>What percent of your posts contain the following? [Power BI]</th>\n",
       "      <th>What percent of your posts contain the following? [Excel]</th>\n",
       "      <th>What percent of your posts contain the following? [Data Projects]</th>\n",
       "      <th>What percent of your posts contain the following? [Personal Stories]</th>\n",
       "      <th>What percent of your posts contain the following? [Cheatsheets]</th>\n",
       "      <th>What percent of your posts contain the following? [Memes]</th>\n",
       "      <th>What percent of your posts contain the following? [Promotional Material]</th>\n",
       "    </tr>\n",
       "  </thead>\n",
       "  <tbody>\n",
       "    <tr>\n",
       "      <th>0</th>\n",
       "      <td>2/6/2023 18:49:50</td>\n",
       "      <td>Christian Wanser</td>\n",
       "      <td>https://www.linkedin.com/in/christian-wanser/</td>\n",
       "      <td>https://media.licdn.com/dms/image/D4E03AQEaQTG...</td>\n",
       "      <td>7 - 9 months</td>\n",
       "      <td>14351</td>\n",
       "      <td>76 - 100%</td>\n",
       "      <td>1 - 25%</td>\n",
       "      <td>76 - 100%</td>\n",
       "      <td>51 - 75%</td>\n",
       "      <td>...</td>\n",
       "      <td>0%</td>\n",
       "      <td>0%</td>\n",
       "      <td>0%</td>\n",
       "      <td>0%</td>\n",
       "      <td>0%</td>\n",
       "      <td>26 - 50%</td>\n",
       "      <td>26 - 50%</td>\n",
       "      <td>0%</td>\n",
       "      <td>76 - 100%</td>\n",
       "      <td>1 - 25%</td>\n",
       "    </tr>\n",
       "  </tbody>\n",
       "</table>\n",
       "<p>1 rows × 30 columns</p>\n",
       "</div>"
      ],
      "text/plain": [
       "           Timestamp What is your name (as shown on LinkedIn)?  \\\n",
       "0  2/6/2023 18:49:50                          Christian Wanser   \n",
       "\n",
       "              What is your LinkedIn profile URL?  \\\n",
       "0  https://www.linkedin.com/in/christian-wanser/   \n",
       "\n",
       "                What is your LinkedIn profile image?  \\\n",
       "0  https://media.licdn.com/dms/image/D4E03AQEaQTG...   \n",
       "\n",
       "  How long have you been creating data content on LinkedIn?  \\\n",
       "0                                       7 - 9 months          \n",
       "\n",
       "   How many followers do you have at this time?  \\\n",
       "0                                         14351   \n",
       "\n",
       "  What percent of your posts contain the following? [General Data Advice]  \\\n",
       "0                                          76 - 100%                        \n",
       "\n",
       "  What percent of your posts contain the following? [Resume Advice]  \\\n",
       "0                                            1 - 25%                  \n",
       "\n",
       "  What percent of your posts contain the following? [Best Practices in Data]  \\\n",
       "0                                          76 - 100%                           \n",
       "\n",
       "  What percent of your posts contain the following? [Data Viz Tips]  ...  \\\n",
       "0                                           51 - 75%                 ...   \n",
       "\n",
       "  What percent of your posts contain the following? [R]  \\\n",
       "0                                                 0%      \n",
       "\n",
       "  What percent of your posts contain the following? [SQL]  \\\n",
       "0                                                 0%        \n",
       "\n",
       "  What percent of your posts contain the following? [Tableau]  \\\n",
       "0                                                 0%            \n",
       "\n",
       "  What percent of your posts contain the following? [Power BI]  \\\n",
       "0                                                 0%             \n",
       "\n",
       "  What percent of your posts contain the following? [Excel]  \\\n",
       "0                                                 0%          \n",
       "\n",
       "  What percent of your posts contain the following? [Data Projects]  \\\n",
       "0                                           26 - 50%                  \n",
       "\n",
       "  What percent of your posts contain the following? [Personal Stories]  \\\n",
       "0                                           26 - 50%                     \n",
       "\n",
       "  What percent of your posts contain the following? [Cheatsheets]  \\\n",
       "0                                                 0%                \n",
       "\n",
       "  What percent of your posts contain the following? [Memes]  \\\n",
       "0                                          76 - 100%          \n",
       "\n",
       "  What percent of your posts contain the following? [Promotional Material]  \n",
       "0                                            1 - 25%                        \n",
       "\n",
       "[1 rows x 30 columns]"
      ]
     },
     "execution_count": 10,
     "metadata": {},
     "output_type": "execute_result"
    }
   ],
   "source": [
    "\n",
    "raw_data = pd.DataFrame(data_json)\n",
    "    \n",
    "raw_data\n"
   ]
  },
  {
   "cell_type": "code",
   "execution_count": 24,
   "id": "0fe9f23b",
   "metadata": {},
   "outputs": [
    {
     "ename": "UnidentifiedImageError",
     "evalue": "cannot identify image file <_io.BytesIO object at 0x7faf58d62470>",
     "output_type": "error",
     "traceback": [
      "\u001b[0;31m---------------------------------------------------------------------------\u001b[0m",
      "\u001b[0;31mUnidentifiedImageError\u001b[0m                    Traceback (most recent call last)",
      "\u001b[0;32m<ipython-input-24-1f51e8b25a65>\u001b[0m in \u001b[0;36m<module>\u001b[0;34m\u001b[0m\n\u001b[1;32m      6\u001b[0m \u001b[0;31m# Image.open(response.raw)\u001b[0m\u001b[0;34m\u001b[0m\u001b[0;34m\u001b[0m\u001b[0;34m\u001b[0m\u001b[0m\n\u001b[1;32m      7\u001b[0m \u001b[0;34m\u001b[0m\u001b[0m\n\u001b[0;32m----> 8\u001b[0;31m \u001b[0mimg\u001b[0m \u001b[0;34m=\u001b[0m \u001b[0mImage\u001b[0m\u001b[0;34m.\u001b[0m\u001b[0mopen\u001b[0m\u001b[0;34m(\u001b[0m\u001b[0murlopen\u001b[0m\u001b[0;34m(\u001b[0m\u001b[0murl\u001b[0m\u001b[0;34m)\u001b[0m\u001b[0;34m)\u001b[0m\u001b[0;34m\u001b[0m\u001b[0;34m\u001b[0m\u001b[0m\n\u001b[0m\u001b[1;32m      9\u001b[0m \u001b[0mimg\u001b[0m\u001b[0;34m\u001b[0m\u001b[0;34m\u001b[0m\u001b[0m\n",
      "\u001b[0;32m/opt/anaconda3/lib/python3.7/site-packages/PIL/Image.py\u001b[0m in \u001b[0;36mopen\u001b[0;34m(fp, mode, formats)\u001b[0m\n\u001b[1;32m   2966\u001b[0m         \u001b[0mwarnings\u001b[0m\u001b[0;34m.\u001b[0m\u001b[0mwarn\u001b[0m\u001b[0;34m(\u001b[0m\u001b[0mmessage\u001b[0m\u001b[0;34m)\u001b[0m\u001b[0;34m\u001b[0m\u001b[0;34m\u001b[0m\u001b[0m\n\u001b[1;32m   2967\u001b[0m     raise UnidentifiedImageError(\n\u001b[0;32m-> 2968\u001b[0;31m         \u001b[0;34m\"cannot identify image file %r\"\u001b[0m \u001b[0;34m%\u001b[0m \u001b[0;34m(\u001b[0m\u001b[0mfilename\u001b[0m \u001b[0;32mif\u001b[0m \u001b[0mfilename\u001b[0m \u001b[0;32melse\u001b[0m \u001b[0mfp\u001b[0m\u001b[0;34m)\u001b[0m\u001b[0;34m\u001b[0m\u001b[0;34m\u001b[0m\u001b[0m\n\u001b[0m\u001b[1;32m   2969\u001b[0m     )\n\u001b[1;32m   2970\u001b[0m \u001b[0;34m\u001b[0m\u001b[0m\n",
      "\u001b[0;31mUnidentifiedImageError\u001b[0m: cannot identify image file <_io.BytesIO object at 0x7faf58d62470>"
     ]
    }
   ],
   "source": [
    "\n",
    "raw_data[\"What is your LinkedIn profile image?\"][0]\n",
    "\n",
    "url = raw_data[\"What is your LinkedIn profile image?\"][0]\n",
    "url='https://commons.wikimedia.org/wiki/File:A-Cat.jpg'\n",
    "# response = requests.get(url)\n",
    "# Image.open(response.raw)\n",
    "\n",
    "img = Image.open(urlopen(url))\n",
    "img\n"
   ]
  },
  {
   "cell_type": "code",
   "execution_count": 5,
   "id": "ab6492ea",
   "metadata": {},
   "outputs": [],
   "source": [
    "\n",
    "# wks = gc.open(\"LinkedIn Data Content Creators\").worksheet(\"Form Responses\")\n"
   ]
  },
  {
   "cell_type": "code",
   "execution_count": null,
   "id": "37a2bc7b",
   "metadata": {},
   "outputs": [],
   "source": []
  },
  {
   "cell_type": "code",
   "execution_count": null,
   "id": "ac14a3a9",
   "metadata": {},
   "outputs": [],
   "source": []
  },
  {
   "cell_type": "code",
   "execution_count": null,
   "id": "ccc0dadb",
   "metadata": {},
   "outputs": [],
   "source": []
  }
 ],
 "metadata": {
  "kernelspec": {
   "display_name": "Python 3",
   "language": "python",
   "name": "python3"
  },
  "language_info": {
   "codemirror_mode": {
    "name": "ipython",
    "version": 3
   },
   "file_extension": ".py",
   "mimetype": "text/x-python",
   "name": "python",
   "nbconvert_exporter": "python",
   "pygments_lexer": "ipython3",
   "version": "3.7.7"
  }
 },
 "nbformat": 4,
 "nbformat_minor": 5
}
