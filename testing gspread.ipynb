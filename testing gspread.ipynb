{
 "cells": [
  {
   "cell_type": "code",
   "execution_count": 1,
   "id": "ebb058df",
   "metadata": {},
   "outputs": [],
   "source": [
    "\n",
    "import gspread\n",
    "from oauth2client.service_account import ServiceAccountCredentials\n",
    "from pprint import pprint as pp\n"
   ]
  },
  {
   "cell_type": "code",
   "execution_count": 2,
   "id": "f577fd92",
   "metadata": {},
   "outputs": [],
   "source": [
    "\n",
    "scope = [\"https://spreadsheets.google.com/feeds\",'https://www.googleapis.com/auth/spreadsheets',\"https://www.googleapis.com/auth/drive.file\",\"https://www.googleapis.com/auth/drive\"]\n"
   ]
  },
  {
   "cell_type": "code",
   "execution_count": 3,
   "id": "6d244d14",
   "metadata": {},
   "outputs": [],
   "source": [
    "\n",
    "creds = ServiceAccountCredentials.from_json_keyfile_name(\"creds.json\",scope)\n",
    "client = gspread.authorize(creds)\n"
   ]
  },
  {
   "cell_type": "code",
   "execution_count": 4,
   "id": "dccfda19",
   "metadata": {},
   "outputs": [
    {
     "name": "stdout",
     "output_type": "stream",
     "text": [
      "[{'How long have you been creating data content on LinkedIn?': '7 - 9 months',\n",
      "  'How many followers do you have at this time?': 14351,\n",
      "  'Timestamp': '2/6/2023 18:49:50',\n",
      "  'What is your LinkedIn profile URL?': 'https://www.linkedin.com/in/christian-wanser/',\n",
      "  'What is your LinkedIn profile image?': 'https://media.licdn.com/dms/image/D4E03AQEaQTGrL67Yog/profile-displayphoto-shrink_400_400/0/1666678687733?e=1681344000&v=beta&t=x7XQS96qKTx0BzuT0mmk78yBrf4pphi6MgLslA8iVak',\n",
      "  'What is your name (as shown on LinkedIn)?': 'Christian Wanser',\n",
      "  'What percent of your posts contain the following? [Analytics Engineering]': '0%',\n",
      "  'What percent of your posts contain the following? [Analytics]': '76 - 100%',\n",
      "  'What percent of your posts contain the following? [Best Practices in Data]': '76 '\n",
      "                                                                                '- '\n",
      "                                                                                '100%',\n",
      "  'What percent of your posts contain the following? [Cheatsheets]': '0%',\n",
      "  'What percent of your posts contain the following? [Coding Advice]': '1 - '\n",
      "                                                                       '25%',\n",
      "  'What percent of your posts contain the following? [Data Architecture]': '0%',\n",
      "  'What percent of your posts contain the following? [Data Career Advice]': '51 '\n",
      "                                                                            '- '\n",
      "                                                                            '75%',\n",
      "  'What percent of your posts contain the following? [Data Engineering]': '0%',\n",
      "  'What percent of your posts contain the following? [Data Projects]': '26 - '\n",
      "                                                                       '50%',\n",
      "  'What percent of your posts contain the following? [Data Science]': '26 - '\n",
      "                                                                      '50%',\n",
      "  'What percent of your posts contain the following? [Data Storytelling Tips]': '51 '\n",
      "                                                                                '- '\n",
      "                                                                                '75%',\n",
      "  'What percent of your posts contain the following? [Data Viz Tips]': '51 - '\n",
      "                                                                       '75%',\n",
      "  'What percent of your posts contain the following? [Excel]': '0%',\n",
      "  'What percent of your posts contain the following? [General Data Advice]': '76 '\n",
      "                                                                             '- '\n",
      "                                                                             '100%',\n",
      "  'What percent of your posts contain the following? [ML Tips]': '1 - 25%',\n",
      "  'What percent of your posts contain the following? [Memes]': '76 - 100%',\n",
      "  'What percent of your posts contain the following? [Personal Stories]': '26 '\n",
      "                                                                          '- '\n",
      "                                                                          '50%',\n",
      "  'What percent of your posts contain the following? [Power BI]': '0%',\n",
      "  'What percent of your posts contain the following? [Promotional Material]': '1 '\n",
      "                                                                              '- '\n",
      "                                                                              '25%',\n",
      "  'What percent of your posts contain the following? [Python]': '1 - 25%',\n",
      "  'What percent of your posts contain the following? [R]': '0%',\n",
      "  'What percent of your posts contain the following? [Resume Advice]': '1 - '\n",
      "                                                                       '25%',\n",
      "  'What percent of your posts contain the following? [SQL]': '0%',\n",
      "  'What percent of your posts contain the following? [Tableau]': '0%'}]\n"
     ]
    }
   ],
   "source": [
    "\n",
    "sheet = client.open(\"LinkedIn Data Content Creators\").worksheet(\"Form Responses\")\n",
    "data = sheet.get_all_records() \n",
    "pp(data)\n"
   ]
  },
  {
   "cell_type": "code",
   "execution_count": null,
   "id": "56c9e773",
   "metadata": {},
   "outputs": [],
   "source": []
  },
  {
   "cell_type": "code",
   "execution_count": null,
   "id": "36e10daf",
   "metadata": {},
   "outputs": [],
   "source": []
  },
  {
   "cell_type": "code",
   "execution_count": null,
   "id": "ab6492ea",
   "metadata": {},
   "outputs": [],
   "source": [
    "\n",
    "# wks = gc.open(\"LinkedIn Data Content Creators\").worksheet(\"Form Responses\")\n"
   ]
  },
  {
   "cell_type": "code",
   "execution_count": null,
   "id": "37a2bc7b",
   "metadata": {},
   "outputs": [],
   "source": []
  },
  {
   "cell_type": "code",
   "execution_count": null,
   "id": "ac14a3a9",
   "metadata": {},
   "outputs": [],
   "source": []
  },
  {
   "cell_type": "code",
   "execution_count": null,
   "id": "ccc0dadb",
   "metadata": {},
   "outputs": [],
   "source": []
  }
 ],
 "metadata": {
  "kernelspec": {
   "display_name": "Python 3",
   "language": "python",
   "name": "python3"
  },
  "language_info": {
   "codemirror_mode": {
    "name": "ipython",
    "version": 3
   },
   "file_extension": ".py",
   "mimetype": "text/x-python",
   "name": "python",
   "nbconvert_exporter": "python",
   "pygments_lexer": "ipython3",
   "version": "3.7.7"
  }
 },
 "nbformat": 4,
 "nbformat_minor": 5
}
